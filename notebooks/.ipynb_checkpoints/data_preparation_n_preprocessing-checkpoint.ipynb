{
 "cells": [
  {
   "cell_type": "code",
   "execution_count": 8,
   "metadata": {},
   "outputs": [
    {
     "name": "stdout",
     "output_type": "stream",
     "text": [
      "a peek at raw_EPL_tables original dataset, which contains info for EPL table for each season\n",
      "      season                      name  pos                team   p   w  d  \\\n",
      "0  2018/2019  Premier League 2018-2019    1     Manchester City  38  32  2   \n",
      "1  2018/2019  Premier League 2018-2019    2           Liverpool  38  30  7   \n",
      "2  2018/2019  Premier League 2018-2019    3             Chelsea  38  21  9   \n",
      "3  2018/2019  Premier League 2018-2019    4  Tottenham Hotspur   38  23  2   \n",
      "4  2018/2019  Premier League 2018-2019    5             Arsenal  38  21  7   \n",
      "\n",
      "    l   f   a  gd  points  \n",
      "0   4  95  23  72      98  \n",
      "1   1  89  22  67      97  \n",
      "2   8  63  39  24      72  \n",
      "3  13  67  39  28      71  \n",
      "4  10  73  51  22      70  \n"
     ]
    }
   ],
   "source": [
    "import pandas as pd\n",
    "raw_EPL_tables = pd.read_csv(\"../data/raw/english-football-premier-league-tables-1968-2019.csv\")\n",
    "print \"a peek at raw_EPL_tables original dataset, which contains info for EPL table for each season.\"\n",
    "print raw_EPL_tables.head()"
   ]
  },
  {
   "cell_type": "code",
   "execution_count": 9,
   "metadata": {},
   "outputs": [
    {
     "name": "stdout",
     "output_type": "stream",
     "text": [
      "a peek at raw_match_stat original dataset, which contains info for detailed match stats for each season\n",
      "   year  month  day       Date    HomeTeam     AwayTeam  FTHG  FTAG FTR  HTHG  \\\n",
      "0  2013      8   17  2017/8/13     Arsenal  Aston Villa     1     3   A     1   \n",
      "1  2013      8   17  2017/8/13   Liverpool        Stoke     1     0   H     1   \n",
      "2  2013      8   17  2017/8/13     Norwich      Everton     2     2   D     0   \n",
      "3  2013      8   17  2017/8/13  Sunderland       Fulham     0     1   A     0   \n",
      "4  2013      8   17  2017/8/13     Swansea   Man United     1     4   A     0   \n",
      "\n",
      "   ...  BbAv<2.5 BbAH BbAHh  BbMxAHH  BbAvAHH  BbMxAHA  BbAvAHA  Unnamed: 67  \\\n",
      "0  ...      2.37  NaN   NaN      NaN      NaN      NaN      NaN          NaN   \n",
      "1  ...      2.02  NaN   NaN      NaN      NaN      NaN      NaN          NaN   \n",
      "2  ...      1.82  NaN   NaN      NaN      NaN      NaN      NaN          NaN   \n",
      "3  ...      1.77  NaN   NaN      NaN      NaN      NaN      NaN          NaN   \n",
      "4  ...      1.98  NaN   NaN      NaN      NaN      NaN      NaN          NaN   \n",
      "\n",
      "   Unnamed: 68  Unnamed: 69  \n",
      "0          NaN          NaN  \n",
      "1          NaN          NaN  \n",
      "2          NaN          NaN  \n",
      "3          NaN          NaN  \n",
      "4          NaN          NaN  \n",
      "\n",
      "[5 rows x 70 columns]\n"
     ]
    }
   ],
   "source": [
    "raw_match_stat = pd.read_csv(\"../data/interim/2013_2019_with_date_transformed.csv\")\n",
    "print \"a peek at raw_match_stat original dataset, which contains info for detailed match stats for each season.\"\n",
    "print raw_match_stat.head()"
   ]
  },
  {
   "cell_type": "code",
   "execution_count": null,
   "metadata": {},
   "outputs": [],
   "source": []
  }
 ],
 "metadata": {
  "kernelspec": {
   "display_name": "Python 2",
   "language": "python",
   "name": "python2"
  },
  "language_info": {
   "codemirror_mode": {
    "name": "ipython",
    "version": 2
   },
   "file_extension": ".py",
   "mimetype": "text/x-python",
   "name": "python",
   "nbconvert_exporter": "python",
   "pygments_lexer": "ipython2",
   "version": "2.7.10"
  }
 },
 "nbformat": 4,
 "nbformat_minor": 2
}
